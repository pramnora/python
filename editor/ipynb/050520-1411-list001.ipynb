{
 "cells": [
  {
   "cell_type": "code",
   "execution_count": 8,
   "metadata": {},
   "outputs": [
    {
     "name": "stdout",
     "output_type": "stream",
     "text": [
      "Instructions: Enter a series of names/(empty string to finish).\n",
      "\n",
      "Name: Tom\n",
      "Name: Dick\n",
      "Name: Harry\n",
      "Name: \n",
      "\n",
      "The names you entered were:  ['Tom', 'Dick', 'Harry']\n",
      "\n",
      "1 >  Tom\n",
      "2 >  Dick\n",
      "3 >  Harry\n"
     ]
    }
   ],
   "source": [
    "#-----------------------------------------\n",
    "#*** PROGRAM: Collect/then, print names...\n",
    "#-----------------------------------------\n",
    "\n",
    "#----------------------------\n",
    "#*** Variable declarations...\n",
    "#----------------------------\n",
    "\n",
    "lisNames = []\n",
    "bolDataEntry = True\n",
    "intEachDataEntryNo = 0\n",
    "\n",
    "#-------------------\n",
    "#*** Main program...\n",
    "#-------------------\n",
    "\n",
    "print(\"Instructions: Enter a series of names/(empty string to finish).\")\n",
    "print()\n",
    "\n",
    "while (bolDataEntry):\n",
    "    strName = input(\"Name: \")\n",
    "    if (strName != ''):\n",
    "      lisNames.append(strName)\n",
    "    else:\n",
    "        bolDataEntry = False        \n",
    "\n",
    "print() \n",
    "print(\"The names you entered were: \",lisNames)\n",
    "print() \n",
    "\n",
    "for strEachName in lisNames:\n",
    "    intEachDataEntryNo += 1\n",
    "    print(intEachDataEntryNo,\"> \",strEachName)"
   ]
  },
  {
   "cell_type": "code",
   "execution_count": null,
   "metadata": {},
   "outputs": [],
   "source": []
  }
 ],
 "metadata": {
  "kernelspec": {
   "display_name": "Python 3",
   "language": "python",
   "name": "python3"
  },
  "language_info": {
   "codemirror_mode": {
    "name": "ipython",
    "version": 3
   },
   "file_extension": ".py",
   "mimetype": "text/x-python",
   "name": "python",
   "nbconvert_exporter": "python",
   "pygments_lexer": "ipython3",
   "version": "3.7.6"
  }
 },
 "nbformat": 4,
 "nbformat_minor": 4
}
