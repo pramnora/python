{
 "cells": [
  {
   "cell_type": "markdown",
   "metadata": {},
   "source": [
    "# TITLE: How to use Python dictionaries...\n",
    "## LANGUAGE: Python 3\n",
    "## CREATED: 070520 14:36 PM GMT\n",
    "## UPDATED: 070520 14:36 PM GMT"
   ]
  },
  {
   "cell_type": "code",
   "execution_count": 72,
   "metadata": {},
   "outputs": [
    {
     "name": "stdout",
     "output_type": "stream",
     "text": [
      "\n",
      "{1: 111, 2: 3, 3: True, 4: 'three', 5: ['Tom', 'Dick', 'Harry'], 6: (1, 2, 3, 4, 5, 6, 7), 7: {'name': 'Paul', 'age': 57}}\n",
      "\n",
      "111\n",
      "3\n",
      "True\n",
      "three\n",
      "['Tom', 'Dick', 'Harry']\n",
      "(1, 2, 3, 4, 5, 6, 7)\n",
      "{'name': 'Paul', 'age': 57}\n",
      "\n",
      "['Tom', 'Dick', 'Harry']\n",
      "Dick\n",
      "1\n",
      "Paul\n",
      "Paul 57\n"
     ]
    },
    {
     "data": {
      "text/plain": [
       "\"\\nIn final conclusion, the Python 'dict' is a highly versatile form of data structure...;\\nwhich is able to store multiple different data types, including:\\nnumber,expression,boolean,string,list,tuple,dict/-etc.;\\nand, also, allows one to both store/access even 'complex data types' either whole/or else, individually.\\n\""
      ]
     },
     "execution_count": 72,
     "metadata": {},
     "output_type": "execute_result"
    }
   ],
   "source": [
    "d={1:111,                               # number\n",
    "   2:4+5-3*2,                           # numerical expression - (multiplication, first/followed by addition/then, minus)\n",
    "   3:True,                              # boolean  \n",
    "   4:\"three\",                           # text string   \n",
    "   5:[\"Tom\",\"Dick\",\"Harry\"],            # list of text strings\n",
    "   6:(1,2,3,4,5,6,7),                   # tuple, list of integer numbers\n",
    "   7:{\"name\":\"Paul\",\"age\":2020-1963}    # dict, different data types/(NOTE: a dict can store another dict)\n",
    "  }\n",
    "\n",
    "print()                                 # print blank line   \n",
    "print(d)                                # print out the dict whole\n",
    "print()                                 # print blank line\n",
    "\n",
    "for eachKeyValue in d:                  # use for/in loop to print out the entire dictionary list of values\n",
    "    print(d[eachKeyValue])              # prints out each key 'value'\n",
    "\n",
    "print()                                 # print blank line\n",
    "    \n",
    "print(d[5])                             # print all values stored inside of d[5] list \n",
    "print(d[5][1])                          # print d[5]/list, selects a single subscript value\n",
    "print(d[6][0])                          # print d[6]/tuple, selects a single subscript value   \n",
    "print(d[7][\"name\"])                     # print d[7]/dict, selects a single subscript value\n",
    "print(d[7][\"name\"],d[7][\"age\"])         # print d[7]/dict, selects two different subscript values, at once\n",
    "\n",
    "'''\n",
    "In final conclusion, the Python 'dict' is a highly versatile form of data structure...;\n",
    "which is able to store multiple different data types, including:\n",
    "number,expression,boolean,string,list,tuple,dict/-etc.;\n",
    "and, also, allows one to both store/access even 'complex data types' either whole/or else, individually.\n",
    "'''\n"
   ]
  },
  {
   "cell_type": "code",
   "execution_count": null,
   "metadata": {},
   "outputs": [],
   "source": [
    "d[2]"
   ]
  }
 ],
 "metadata": {
  "kernelspec": {
   "display_name": "Python 3",
   "language": "python",
   "name": "python3"
  },
  "language_info": {
   "codemirror_mode": {
    "name": "ipython",
    "version": 3
   },
   "file_extension": ".py",
   "mimetype": "text/x-python",
   "name": "python",
   "nbconvert_exporter": "python",
   "pygments_lexer": "ipython3",
   "version": "3.7.6"
  }
 },
 "nbformat": 4,
 "nbformat_minor": 4
}
